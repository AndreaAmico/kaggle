{
 "cells": [
  {
   "cell_type": "code",
   "execution_count": 25,
   "metadata": {},
   "outputs": [
    {
     "name": "stdout",
     "output_type": "stream",
     "text": [
      "The autoreload extension is already loaded. To reload it, use:\n",
      "  %reload_ext autoreload\n"
     ]
    }
   ],
   "source": [
    "import glob, os, sys, shutil\n",
    "import matplotlib.pyplot as plt\n",
    "import numpy as np\n",
    "import pandas as pd\n",
    "\n",
    "%load_ext autoreload\n",
    "%autoreload 2\n",
    "%matplotlib inline\n",
    "if os.name == 'posix':\n",
    "    %config InlineBackend.figure_format = 'retina' #retina display settings"
   ]
  },
  {
   "cell_type": "code",
   "execution_count": 26,
   "metadata": {},
   "outputs": [
    {
     "name": "stdout",
     "output_type": "stream",
     "text": [
      "{'a': 15, 'b': 1, 'c': 0.0001}\n",
      "{'a': 4.25, 'b': 0.05, 'c': 0.5}\n",
      "{'a': 15.0, 'b': 1, 'c': 0.0001}\n"
     ]
    }
   ],
   "source": [
    "class Parameter_space(object):\n",
    "    def __init__(self, bounds={}):\n",
    "        self.bounds = bounds\n",
    "        for k, v in self.bounds.items():\n",
    "            assert (v[2] in ('lin', 'linear', 'int', 'integer', 'descrete', 'log', 'logarithmic')),\\\n",
    "            \"Set the scale using 'lin', 'descrete', or 'log'\"\n",
    "        \n",
    "    def _remap(self, x, in_min, in_max, out_min, out_max):\n",
    "        return (x-in_min) * (out_max-out_min) / (in_max-in_min) + out_min\n",
    "    \n",
    "    def get_01(self):\n",
    "        return {k:(0, 1) for k in self.bounds.keys()}\n",
    "    \n",
    "    def scaled(self, point):\n",
    "        new_point = {}\n",
    "        for k, v in self.bounds.items():\n",
    "            if v[2] in ('lin', 'linear'):\n",
    "                new_point[k] = self._remap(point[k], v[0], v[1], 0, 1)\n",
    "            elif v[2] in ('int', 'integer', 'descrete'):\n",
    "                new_point[k] = self._remap(point[k], v[0], float(v[1]), 0, 1)\n",
    "            elif v[2] in ('log', 'logarithmic'):\n",
    "                new_point[k] = self._remap(np.log10(point[k]), v[0], v[1], 0, 1)\n",
    "            else:\n",
    "                raise ValueError(\"Set the scale using 'lin', 'descrete', or 'log'\")\n",
    "        return new_point\n",
    "    \n",
    "    def original(self, point):\n",
    "        new_point = {}\n",
    "        for k, v in self.bounds.items():\n",
    "            if v[2] in ('lin', 'linear'):\n",
    "                new_point[k] = self._remap(point[k], 0, 1, v[0], v[1])\n",
    "            elif v[2] in ('int', 'integer', 'descrete'):\n",
    "                new_point[k] = round(self._remap(point[k], 0, 1, v[0], v[1]))\n",
    "            elif v[2] in ('log', 'logarithmic'):\n",
    "                \n",
    "                new_point[k] = 10**self._remap(point[k], 0, 1, v[0], v[1])\n",
    "            else:\n",
    "                raise ValueError(\"Set the scale using 'lin', 'descrete', or 'log'\")                  \n",
    "        return new_point\n",
    "    \n",
    "    def original_array(self, arr, key_order):\n",
    "        new_arr = np.ones(arr.shape)\n",
    "        for index, point in enumerate(arr):\n",
    "            scaled_point = {k: point[i] for i, k in enumerate(key_order)}\n",
    "            new_point = self.original(scaled_point)\n",
    "            new_arr[index, :] = np.array([new_point[k] for k in key_order])\n",
    "        return new_arr\n",
    "            \n",
    "            \n",
    "                \n",
    "\n",
    "\n",
    "ps = Parameter_space({'a': (-2, 2, 'lin'),\n",
    "                      'b': (0, 20, 'descrete'),\n",
    "                      'c': (-8, 0, 'log')})\n",
    "\n",
    "\n",
    "point = {'a':15, 'b':1, 'c':1e-4}\n",
    "print(point)\n",
    "new_point = ps.scaled(point)\n",
    "print(new_point)\n",
    "new_point = ps.original(new_point)\n",
    "print(new_point)\n",
    "\n",
    "x_span = np.linspace(0,1,20)\n",
    "y_span = np.linspace(0,1,20)\n",
    "z_span = np.linspace(0,1,20)\n",
    "\n",
    "xx, yy, zz = np.meshgrid(x_span, y_span, z_span)\n",
    "xyz = np.concatenate(np.meshgrid(x_span, y_span, z_span)).reshape(-1, 3, order='F')\n",
    "\n",
    "aaa = ps.original_array(xyz, ['a', 'b', 'c'])"
   ]
  },
  {
   "cell_type": "code",
   "execution_count": 35,
   "metadata": {},
   "outputs": [
    {
     "name": "stdout",
     "output_type": "stream",
     "text": [
      "Index(['Age', 'Sex', 'Parch', 'Fare', 'Pclass', 'Embarked', 'Name',\n",
      "       'Survived'],\n",
      "      dtype='object')\n"
     ]
    },
    {
     "data": {
      "text/html": [
       "<div>\n",
       "<style scoped>\n",
       "    .dataframe tbody tr th:only-of-type {\n",
       "        vertical-align: middle;\n",
       "    }\n",
       "\n",
       "    .dataframe tbody tr th {\n",
       "        vertical-align: top;\n",
       "    }\n",
       "\n",
       "    .dataframe thead th {\n",
       "        text-align: right;\n",
       "    }\n",
       "</style>\n",
       "<table border=\"1\" class=\"dataframe\">\n",
       "  <thead>\n",
       "    <tr style=\"text-align: right;\">\n",
       "      <th></th>\n",
       "      <th>Age</th>\n",
       "      <th>Sex</th>\n",
       "      <th>Parch</th>\n",
       "      <th>Fare</th>\n",
       "      <th>Pclass</th>\n",
       "      <th>Embarked</th>\n",
       "      <th>Name</th>\n",
       "      <th>Survived</th>\n",
       "    </tr>\n",
       "    <tr>\n",
       "      <th>PassengerId</th>\n",
       "      <th></th>\n",
       "      <th></th>\n",
       "      <th></th>\n",
       "      <th></th>\n",
       "      <th></th>\n",
       "      <th></th>\n",
       "      <th></th>\n",
       "      <th></th>\n",
       "    </tr>\n",
       "  </thead>\n",
       "  <tbody>\n",
       "    <tr>\n",
       "      <th>1</th>\n",
       "      <td>22.0</td>\n",
       "      <td>1.0</td>\n",
       "      <td>0</td>\n",
       "      <td>7.2500</td>\n",
       "      <td>3</td>\n",
       "      <td>2</td>\n",
       "      <td>1</td>\n",
       "      <td>0</td>\n",
       "    </tr>\n",
       "    <tr>\n",
       "      <th>2</th>\n",
       "      <td>38.0</td>\n",
       "      <td>0.0</td>\n",
       "      <td>0</td>\n",
       "      <td>71.2833</td>\n",
       "      <td>1</td>\n",
       "      <td>0</td>\n",
       "      <td>1</td>\n",
       "      <td>1</td>\n",
       "    </tr>\n",
       "  </tbody>\n",
       "</table>\n",
       "</div>"
      ],
      "text/plain": [
       "              Age  Sex  Parch     Fare  Pclass  Embarked  Name  Survived\n",
       "PassengerId                                                             \n",
       "1            22.0  1.0      0   7.2500       3         2     1         0\n",
       "2            38.0  0.0      0  71.2833       1         0     1         1"
      ]
     },
     "execution_count": 35,
     "metadata": {},
     "output_type": "execute_result"
    }
   ],
   "source": [
    "df = pd.read_csv(filepath_or_buffer='./train.csv', index_col='PassengerId')\n",
    "df_test = pd.read_csv(filepath_or_buffer='./test.csv', index_col='PassengerId')\n",
    "\n",
    "\n",
    "df.Sex = (df.Sex=='male')*1.\n",
    "df_test.Sex = (df_test.Sex=='male')*1.\n",
    "\n",
    "from sklearn import preprocessing\n",
    "\n",
    "le = preprocessing.LabelEncoder()\n",
    "le.fit(df.Embarked.astype('str'))\n",
    "le.classes_\n",
    "\n",
    "\n",
    "df.Embarked = le.transform(df.Embarked.astype('str'))\n",
    "df_test.Embarked = le.transform(df_test.Embarked.astype('str'))\n",
    "\n",
    "df.Name = df.Name.str.contains('Mr.')*1\n",
    "df_test.Name = df_test.Name.str.contains('Mr.')*1\n",
    "\n",
    "\n",
    "df.Age.fillna(df.Age.mean(skipna=True), inplace=True)\n",
    "df_test.Age.fillna(df_test.Age.mean(skipna=True), inplace=True)\n",
    "\n",
    "df_test.Fare.fillna(df_test.Fare.mean(skipna=True), inplace=True)\n",
    "#df.dropna(inplace=True)\n",
    "\n",
    "\n",
    "keep_cols = ['Age', 'Sex', 'Parch', 'Fare', 'Pclass', 'Embarked', 'Name']\n",
    "\n",
    "X = df[keep_cols].values\n",
    "X_test = df_test[keep_cols].values\n",
    "\n",
    "\n",
    "X_scaled = preprocessing.scale(X)\n",
    "X_test_scaled = preprocessing.scale(X_test)\n",
    "y = df['Survived'].values\n",
    "\n",
    "print(df[keep_cols+['Survived']].columns)\n",
    "df[keep_cols+['Survived']].head(2)"
   ]
  },
  {
   "cell_type": "code",
   "execution_count": 70,
   "metadata": {},
   "outputs": [],
   "source": [
    "dfg = df.groupby('Survived')"
   ]
  },
  {
   "cell_type": "code",
   "execution_count": 108,
   "metadata": {},
   "outputs": [
    {
     "data": {
      "image/png": "[encoded data removed]",
      "text/plain": [
       "<Figure size 432x288 with 1 Axes>"
      ]
     },
     "metadata": {
      "needs_background": "light"
     },
     "output_type": "display_data"
    }
   ],
   "source": [
    "plt.violinplot(dfg.get_group(0).Age, positions=[0],  points=20, showmeans=True, showmedians=True)\n",
    "plt.violinplot(dfg.get_group(1).Age, positions=[1],  points=20, showmeans=True, showmedians=True);"
   ]
  },
  {
   "cell_type": "code",
   "execution_count": 180,
   "metadata": {},
   "outputs": [
    {
     "data": {
      "text/plain": [
       "<matplotlib.collections.PolyCollection at 0x1d45ec425c0>"
      ]
     },
     "execution_count": 180,
     "metadata": {},
     "output_type": "execute_result"
    },
    {
     "data": {
      "image/png": "[encoded data removed]",
      "text/plain": [
       "<Figure size 432x288 with 1 Axes>"
      ]
     },
     "metadata": {
      "needs_background": "light"
     },
     "output_type": "display_data"
    }
   ],
   "source": [
    "from scipy.stats import gaussian_kde\n",
    "\n",
    "density = gaussian_kde(dfg.get_group(0).Age)\n",
    "xx = np.linspace(0, 80, 100)\n",
    "\n",
    "density.covariance_factor = lambda : .25\n",
    "density._compute_covariance()\n",
    "#plt.hist(dfg.get_group(0).Age, density=True, bins=15)\n",
    "plt.fill_between(xx, density(xx), alpha=0.5)\n",
    "\n",
    "density = gaussian_kde(dfg.get_group(1).Age)\n",
    "xx = np.linspace(0, 70, 100)\n",
    "\n",
    "density.covariance_factor = lambda : .25\n",
    "density._compute_covariance()\n",
    "#plt.hist(dfg.get_group(0).Age, density=True, bins=15)\n",
    "plt.fill_between(xx, -density(xx), alpha=0.5, label='')\n"
   ]
  },
  {
   "cell_type": "code",
   "execution_count": 159,
   "metadata": {},
   "outputs": [
    {
     "data": {
      "text/plain": [
       "array([0.00375391])"
      ]
     },
     "execution_count": 159,
     "metadata": {},
     "output_type": "execute_result"
    }
   ],
   "source": [
    "density(4)"
   ]
  },
  {
   "cell_type": "code",
   "execution_count": null,
   "metadata": {},
   "outputs": [],
   "source": []
  },
  {
   "cell_type": "code",
   "execution_count": null,
   "metadata": {},
   "outputs": [],
   "source": []
  },
  {
   "cell_type": "code",
   "execution_count": 31,
   "metadata": {},
   "outputs": [],
   "source": []
  },
  {
   "cell_type": "code",
   "execution_count": 6,
   "metadata": {},
   "outputs": [
    {
     "name": "stdout",
     "output_type": "stream",
     "text": [
      "Accuracy: 0.80 (+/- 0.05)\n"
     ]
    }
   ],
   "source": [
    "from sklearn.model_selection import cross_val_score\n",
    "from sklearn import svm\n",
    "\n",
    "clf = svm.SVC(**{'gamma': 0.13981542356819526, 'C': 0.09512341470096693})\n",
    "scores = cross_val_score(clf, X_scaled, y, cv=5)\n",
    "print(\"Accuracy: %0.2f (+/- %0.2f)\" % (scores.mean(), scores.std() * 2))\n",
    "\n",
    "clf_final = svm.SVC(gamma=0.02, C=73)\n",
    "clf_final.fit(X_scaled, y)\n",
    "y_test = clf_final.predict(X_test_scaled)\n",
    "\n",
    "df_submission = pd.DataFrame({'PassengerId':df_test.index.values,\n",
    "                             'Survived':y_test})\n",
    "\n",
    "df_submission.to_csv('to_grade.csv', index=False)"
   ]
  },
  {
   "cell_type": "code",
   "execution_count": 7,
   "metadata": {},
   "outputs": [
    {
     "data": {
      "text/plain": [
       "0.6161649089097865"
      ]
     },
     "execution_count": 7,
     "metadata": {},
     "output_type": "execute_result"
    }
   ],
   "source": [
    "from bayes_opt import BayesianOptimization\n",
    "from bayes_opt import UtilityFunction\n",
    "\n",
    "def test_svc(point):\n",
    "    clf = svm.SVC(gamma=point['gamma'], C=point['C'])\n",
    "    scores = cross_val_score(clf, X_scaled, y, cv=5)\n",
    "    return scores.mean()\n",
    "\n",
    "test_svc({'gamma': 10000, 'C': 1e-4})"
   ]
  },
  {
   "cell_type": "code",
   "execution_count": 8,
   "metadata": {},
   "outputs": [],
   "source": [
    "ps = Parameter_space({'gamma': (-2, 5, 'log'),\n",
    "                      'C': (-5, 1, 'log')})\n",
    "\n",
    "optimizer = BayesianOptimization(\n",
    "    f=test_svc,\n",
    "    pbounds=ps.get_01(),\n",
    "    verbose=2,\n",
    "    random_state=30)\n",
    "\n",
    "\n",
    "utility = UtilityFunction(kind=\"ucb\", kappa=1., xi=None)"
   ]
  },
  {
   "cell_type": "code",
   "execution_count": 9,
   "metadata": {},
   "outputs": [
    {
     "name": "stdout",
     "output_type": "stream",
     "text": [
      "[##################################################] 100.0%"
     ]
    }
   ],
   "source": [
    "\n",
    "def progress_bar(current_value, max_value):\n",
    "    progress = ((current_value+1)/max_value)*100\n",
    "    if progress>98: progress=100\n",
    "    print('\\r[{0}{1}] {2:.1f}%'.format('#'*int(progress/2), ' '*(50-int(progress/2)), progress), end='')\n",
    "\n",
    "\n",
    "ITERATIONS = 100\n",
    "pp = []\n",
    "for index in range(ITERATIONS):\n",
    "    #next_point_to_probe = optimizer.suggest(utility)\n",
    "    next_point_to_probe = optimizer.space.array_to_params(optimizer.space.random_sample())\n",
    "    pp.append(ps.original(next_point_to_probe))\n",
    "    target = test_svc(ps.original(next_point_to_probe))\n",
    "    #print(ps.original(next_point_to_probe), 'Acc: ', target)\n",
    "    optimizer.register(params=next_point_to_probe, target=target)\n",
    "    progress_bar(index, ITERATIONS)"
   ]
  },
  {
   "cell_type": "code",
   "execution_count": 10,
   "metadata": {},
   "outputs": [
    {
     "data": {
      "text/plain": [
       "['C', 'gamma']"
      ]
     },
     "execution_count": 10,
     "metadata": {},
     "output_type": "execute_result"
    }
   ],
   "source": [
    "optimizer.space.keys"
   ]
  },
  {
   "cell_type": "code",
   "execution_count": 16,
   "metadata": {},
   "outputs": [
    {
     "data": {
      "text/plain": [
       "Text(0, 0.5, 'C')"
      ]
     },
     "execution_count": 16,
     "metadata": {},
     "output_type": "execute_result"
    },
    {
     "data": {
      "image/png": "[encoded data removed]",
      "text/plain": [
       "<Figure size 432x288 with 1 Axes>"
      ]
     },
     "metadata": {
      "needs_background": "light"
     },
     "output_type": "display_data"
    }
   ],
   "source": [
    "xxx, yyy, zzz = [], [], []\n",
    "\n",
    "for x in optimizer.res:\n",
    "    orig = ps.original(x['params'])\n",
    "    xxx.append(orig['gamma'])\n",
    "    yyy.append(orig['C'])\n",
    "    zzz.append(x['target'])\n",
    "\n",
    "xy1 = ps.original_array(optimizer.space.params, optimizer.space.keys)\n",
    "\n",
    "\n",
    "plt.scatter(xxx, yyy, c=zzz, cmap='inferno')\n",
    "#plt.scatter(xy1[0], xy1[1], c=zzz, cmap='inferno')\n",
    "\n",
    "\n",
    "plt.xlim(min(xxx), max(xxx))\n",
    "plt.ylim(min(yyy), max(yyy))\n",
    "\n",
    "plt.xscale('log')\n",
    "plt.yscale('log')\n",
    "plt.xlabel('gamma')\n",
    "plt.ylabel('C')"
   ]
  },
  {
   "cell_type": "code",
   "execution_count": null,
   "metadata": {},
   "outputs": [],
   "source": []
  },
  {
   "cell_type": "code",
   "execution_count": 17,
   "metadata": {},
   "outputs": [
    {
     "name": "stdout",
     "output_type": "stream",
     "text": [
      "{'target': 0.8227022466590561, 'params': {'C': 0.9338501433185797, 'gamma': 0.08970338278592749}}\n"
     ]
    },
    {
     "data": {
      "text/plain": [
       "{'gamma': 0.04245449502204081, 'C': 4.009598251351465}"
      ]
     },
     "execution_count": 17,
     "metadata": {},
     "output_type": "execute_result"
    }
   ],
   "source": [
    "print(optimizer.max)\n",
    "ps.original(optimizer.max['params'])\n"
   ]
  },
  {
   "cell_type": "code",
   "execution_count": 18,
   "metadata": {},
   "outputs": [
    {
     "data": {
      "text/plain": [
       "{'gamma': 4.626360032919358, 'C': 0.07325903883933693}"
      ]
     },
     "execution_count": 18,
     "metadata": {},
     "output_type": "execute_result"
    }
   ],
   "source": [
    "ps.original(optimizer.res[0]['params'])"
   ]
  },
  {
   "cell_type": "code",
   "execution_count": 21,
   "metadata": {},
   "outputs": [
    {
     "data": {
      "image/png": "[encoded data removed]",
      "text/plain": [
       "<Figure size 720x288 with 2 Axes>"
      ]
     },
     "metadata": {
      "needs_background": "light"
     },
     "output_type": "display_data"
    }
   ],
   "source": [
    "fig, (ax1, ax2) = plt.subplots(1, 2, figsize=(10, 4))\n",
    "next_point_to_probe = optimizer.suggest(utility)\n"
   ]
  },
  {
   "cell_type": "code",
   "execution_count": 22,
   "metadata": {},
   "outputs": [],
   "source": [
    "from IPython.display import display, clear_output\n",
    "\n",
    "learn_step=False\n",
    "#def plot_opt(learn_step=False):\n",
    "ax1.cla()\n",
    "ax2.cla()\n",
    "\n",
    "if learn_step:\n",
    "    next_point_to_probe = optimizer.suggest(utility)\n",
    "    target = test_svc(ps.original(next_point_to_probe))\n",
    "    optimizer.register(params=next_point_to_probe, target=target)\n",
    "\n",
    "\n",
    "\n",
    "x_span = np.linspace(0,0.5,60)\n",
    "y_span = np.linspace(0.5,1,50)\n",
    "\n",
    "xy_meshgrid = np.meshgrid(x_span, y_span, indexing='xy')\n",
    "xy_shape = xy_meshgrid[0].shape\n",
    "\n",
    "xy = np.column_stack([np.ravel(x) for x in xy_meshgrid])\n",
    "mean, sigma = optimizer._gp.predict(xy, return_std=True)\n",
    "\n",
    "xy_orig = ps.original_array(xy, optimizer.space.keys)\n",
    "x_ax = xy_orig[:,0].reshape(xy_shape)\n",
    "y_ax = xy_orig[:,1].reshape(xy_shape)\n",
    "\n"
   ]
  },
  {
   "cell_type": "code",
   "execution_count": 23,
   "metadata": {},
   "outputs": [],
   "source": [
    "ax1.contourf(x_span, y_span, mean.reshape(xy_meshgrid[0].shape), zorder=1)\n",
    "#ax2.contourf(xy_original[:, 0], xy_original[:, 1], sigma.reshape(xx.shape), 50, zorder=1)\n",
    "\n",
    "xy_original = ps.original_array(np.concatenate([x_span, x_span]).reshape(-1, 2, order='F'), ['gamma', 'C'])\n",
    "mean, sigma = optimizer._gp.predict(xy, return_std=True)\n"
   ]
  },
  {
   "cell_type": "code",
   "execution_count": 24,
   "metadata": {},
   "outputs": [
    {
     "data": {
      "image/png": "[encoded data removed]",
      "text/plain": [
       "<Figure size 720x288 with 2 Axes>"
      ]
     },
     "metadata": {},
     "output_type": "display_data"
    }
   ],
   "source": [
    "ax1.contourf(x_ax, y_ax, mean.reshape(xy_shape), 50, zorder=1)\n",
    "ax2.contourf(x_ax, y_ax, sigma.reshape(xy_shape), 50, zorder=1)\n",
    "\n",
    "\n",
    "\n",
    "lims = ps.original_array(np.array([[0,0], [1,1]]), ['gamma', 'C']).T\n",
    "for ax in (ax1, ax2):\n",
    "    rescaled = ps.original_array(optimizer.space.params, optimizer.space.keys)\n",
    "    ax.scatter(rescaled[:,0], rescaled[:,1], zorder=3, c=optimizer.space.target, cmap='inferno', marker='D')\n",
    "\n",
    "    ax.set_xscale('log')\n",
    "    ax.set_yscale('log')\n",
    "    #ax.set_xlim(lims[0])\n",
    "    #ax.set_ylim(lims[1])\n",
    "    ax.set_xlabel('gamma')\n",
    "    ax.set_ylabel('C')\n",
    "\n",
    "\n",
    "ax1.set_title(f'Max acc: , {optimizer.max[\"target\"]:.3f}')\n",
    "best_point = ps.original(optimizer.max['params'])\n",
    "ax1.scatter(best_point['gamma'], best_point['C'], zorder=10, alpha=0.5, color='white', s=200)\n",
    "\n",
    "display(fig)\n",
    "clear_output(wait=True)"
   ]
  },
  {
   "cell_type": "code",
   "execution_count": null,
   "metadata": {},
   "outputs": [],
   "source": [
    "plt.plot(xy_original[:, 1])\n",
    "plt.yscale('log')"
   ]
  },
  {
   "cell_type": "code",
   "execution_count": null,
   "metadata": {},
   "outputs": [],
   "source": [
    "print(optimizer.max)\n",
    "ps.original(optimizer.max['params'])"
   ]
  },
  {
   "cell_type": "code",
   "execution_count": null,
   "metadata": {},
   "outputs": [],
   "source": [
    "mean, sigma = optimizer._gp.predict(xy, return_std=True)"
   ]
  },
  {
   "cell_type": "code",
   "execution_count": null,
   "metadata": {},
   "outputs": [],
   "source": [
    "best_point "
   ]
  },
  {
   "cell_type": "code",
   "execution_count": null,
   "metadata": {},
   "outputs": [],
   "source": []
  }
 ],
 "metadata": {
  "kernelspec": {
   "display_name": "Python 3",
   "language": "python",
   "name": "python3"
  },
  "language_info": {
   "codemirror_mode": {
    "name": "ipython",
    "version": 3
   },
   "file_extension": ".py",
   "mimetype": "text/x-python",
   "name": "python",
   "nbconvert_exporter": "python",
   "pygments_lexer": "ipython3",
   "version": "3.7.3"
  }
 },
 "nbformat": 4,
 "nbformat_minor": 2
}
