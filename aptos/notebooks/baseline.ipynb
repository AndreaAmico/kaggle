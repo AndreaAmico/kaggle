{
 "cells": [
  {
   "cell_type": "code",
   "execution_count": 1,
   "metadata": {},
   "outputs": [],
   "source": [
    "import os, sys, glob\n",
    "import numpy as np\n",
    "import scipy as sp\n",
    "import pandas as pd\n",
    "import matplotlib.pyplot as plt\n",
    "from tqdm import tqdm\n",
    "\n",
    "%config InlineBackend.figure_format = 'retina'\n",
    "%matplotlib inline\n",
    "%load_ext autoreload\n",
    "%autoreload 2"
   ]
  },
  {
   "cell_type": "code",
   "execution_count": 2,
   "metadata": {},
   "outputs": [],
   "source": [
    "ROOT_PATH = '..'"
   ]
  },
  {
   "cell_type": "code",
   "execution_count": 106,
   "metadata": {},
   "outputs": [],
   "source": [
    "def color(index, alpha=1):\n",
    "    color_list = ['#5374a2', '#a0a0a0', '#0c6374', '#c07a1b']\n",
    "    return color_list[index % len(color_list)] + hex(int(255*alpha))[2:]\n",
    "\n",
    "def quadratic_kappa(actuals, preds, N=5):\n",
    "    \"\"\"This function calculates the Quadratic Kappa Metric used for Evaluation in the PetFinder competition\n",
    "    at Kaggle. It returns the Quadratic Weighted Kappa metric score between the actual and the predicted values \n",
    "    of adoption rating.\"\"\"\n",
    "    w = np.zeros((N,N))\n",
    "    O = confusion_matrix(actuals, preds)\n",
    "    for i in range(len(w)): \n",
    "        for j in range(len(w)):\n",
    "            w[i][j] = float(((i-j)**2)/(N-1)**2)\n",
    "    \n",
    "    act_hist=np.zeros([N])\n",
    "    for item in actuals: \n",
    "        act_hist[item]+=1\n",
    "    \n",
    "    pred_hist=np.zeros([N])\n",
    "    for item in preds: \n",
    "        pred_hist[item]+=1\n",
    "                         \n",
    "    E = np.outer(act_hist, pred_hist);\n",
    "    E = E/E.sum();\n",
    "    O = O/O.sum();\n",
    "    \n",
    "    num=0\n",
    "    den=0\n",
    "    for i in range(len(w)):\n",
    "        for j in range(len(w)):\n",
    "            num+=w[i][j]*O[i][j]\n",
    "            den+=w[i][j]*E[i][j]\n",
    "    return (1 - (num/den))"
   ]
  },
  {
   "cell_type": "code",
   "execution_count": 22,
   "metadata": {},
   "outputs": [
    {
     "data": {
      "text/plain": [
       "Index(['id_code', 'diagnosis', 'x_00', 'x_01', 'x_02', 'x_03', 'x_04', 'x_05',\n",
       "       'x_06', 'x_07', 'x_08', 'x_09', 'x_10', 'x_11', 'x_12', 'x_13', 'x_14',\n",
       "       'x_15', 'x_16', 'x_17', 'x_18', 'x_19', 'x_20', 'x_21', 'x_22', 'x_23',\n",
       "       'x_24', 'x_25', 'x_26', 'x_27', 'x_28', 'x_29', 'x_30'],\n",
       "      dtype='object')"
      ]
     },
     "execution_count": 22,
     "metadata": {},
     "output_type": "execute_result"
    }
   ],
   "source": [
    "df_train = pd.read_csv(f'{ROOT_PATH}/data/train_momentum.csv', index_col=0)\n",
    "df_train.columns"
   ]
  },
  {
   "cell_type": "code",
   "execution_count": 129,
   "metadata": {},
   "outputs": [],
   "source": [
    "from sklearn.preprocessing import Normalizer\n",
    "\n",
    "y = df_train.diagnosis.values\n",
    "df_X = df_train.drop(['id_code', 'diagnosis'], axis=1)\n",
    "X = df_X.values\n",
    "y = (y>0)*1\n",
    "\n",
    "# transformer = Normalizer().fit(X)\n",
    "# transformer.transform(X)\n",
    "# X = transformer.transform(X)\n",
    "X = X - np.mean(X, 0)\n",
    "X = X/np.std(X, 0)"
   ]
  },
  {
   "cell_type": "code",
   "execution_count": 130,
   "metadata": {},
   "outputs": [
    {
     "name": "stdout",
     "output_type": "stream",
     "text": [
      "Mean test: 0.5034106412005457\n",
      "Mean train: 0.5080232161147149\n"
     ]
    }
   ],
   "source": [
    "from sklearn.model_selection import train_test_split\n",
    "\n",
    "X_train, X_test, y_train, y_test = train_test_split(X, y, test_size=0.2, random_state=2)\n",
    "print(f'Mean test: {y_test.mean()}\\nMean train: {y_train.mean()}')"
   ]
  },
  {
   "cell_type": "code",
   "execution_count": 131,
   "metadata": {},
   "outputs": [],
   "source": [
    "from sklearn.decomposition import PCA\n",
    "import xgboost as xgb\n",
    "from sklearn.model_selection import GridSearchCV\n",
    "from sklearn.model_selection import RandomizedSearchCV\n",
    "from xgboost import XGBClassifier\n",
    "from sklearn.metrics import confusion_matrix\n",
    "from sklearn.metrics.scorer import make_scorer\n",
    "import copy\n",
    "\n",
    "quadratic_kappa_score = make_scorer(quadratic_kappa, greater_is_better=True)\n",
    "\n",
    "def run_xgb(X, y):\n",
    "    gbm_param_grid = {\n",
    "        'n_estimators': range(6, 26),\n",
    "        'max_depth': range(4, 14),\n",
    "        'learning_rate': np.linspace(0.1, 1.2, 30),\n",
    "        'colsample_bytree': np.linspace(0.4, 1, 20)\n",
    "    }\n",
    "\n",
    "    gbm = XGBClassifier(n_estimators=10)\n",
    "    xgb_random = RandomizedSearchCV(param_distributions=gbm_param_grid, \n",
    "                                        estimator = gbm, scoring='accuracy', \n",
    "                                        verbose = 0, n_iter = 50, cv = 4)\n",
    "    xgb_random.fit(X, y)\n",
    "\n",
    "    gbm = XGBClassifier(n_estimators=10)\n",
    "    gbm.set_params(**xgb_random.best_params_)\n",
    "    gbm.fit(X, y)\n",
    "    return gbm"
   ]
  },
  {
   "cell_type": "code",
   "execution_count": 140,
   "metadata": {},
   "outputs": [],
   "source": [
    "best_model = {'acc':0, 'model':None, 'pca_transform':None}\n",
    "\n",
    "def run_xgb(X, y):\n",
    "    gbm_param_grid = {\n",
    "        'n_estimators': range(6, 26),\n",
    "        'max_depth': range(4, 14),\n",
    "        'learning_rate': np.linspace(0.1, 1.2, 30),\n",
    "        'colsample_bytree': np.linspace(0.4, 1, 20)\n",
    "    }\n",
    "\n",
    "    gbm = XGBClassifier(n_estimators=10)\n",
    "    xgb_random = RandomizedSearchCV(param_distributions=gbm_param_grid, \n",
    "                                        estimator = gbm, scoring = \"accuracy\", \n",
    "                                        verbose = 0, n_iter = 50, cv = 4)\n",
    "    xgb_random.fit(X, y)\n",
    "\n",
    "    gbm = XGBClassifier(n_estimators=10)\n",
    "    gbm.set_params(**xgb_random.best_params_)\n",
    "    gbm.fit(X, y)\n",
    "    return gbm\n",
    "\n",
    "# def balance_data(X, y):\n",
    "#     X_pos = X[y==0]\n",
    "#     X_anomaly = X[y==1]\n",
    "#     X_balanced = np.concatenate([X_pos[:X_anomaly.shape[0], :], X_anomaly], axis=0)\n",
    "#     y_balanced = np.ones(X_balanced.shape[0])\n",
    "#     y_balanced[:X_anomaly.shape[0]] = 0    \n",
    "#     return X_balanced, y_balanced\n",
    "\n",
    "def run_test(n_components, X_train, y_train, X_test, y_test, enable_pca=True):\n",
    "    X, _, y, _ = train_test_split(X_train, y_train, test_size=0.05)    \n",
    "    if enable_pca:\n",
    "        pca = PCA(n_components=n_components)\n",
    "        pca_transform = pca.fit(X)\n",
    "    else:\n",
    "        pca_transform = lambda :_\n",
    "        pca_transform.transform = lambda x:x\n",
    "        \n",
    "    X = pca_transform.transform(X)\n",
    "    X_test = pca_transform.transform(X_test)\n",
    "    \n",
    "#     X_balanced, y_balanced = balance_data(X, y)\n",
    "    xgb = run_xgb(X, y)\n",
    "    \n",
    "\n",
    "    cm = confusion_matrix(y_test, xgb.predict(X_test))\n",
    "    \n",
    "    acc = (cm[1,1]+cm[0,0])/(np.sum(cm))\n",
    "    rec = cm[1,1]/(cm[1,0]+cm[1,1])\n",
    "    prec = cm[1,1]/(cm[0,1]+cm[1,1])\n",
    "    \n",
    "    if acc > best_model['acc']:\n",
    "        best_model['model'] = copy.deepcopy(xgb)\n",
    "        best_model['acc'] = acc\n",
    "        best_model['pca_transform'] = copy.deepcopy(pca_transform)\n",
    "        \n",
    "    return n_components, acc, rec, prec, cm[0,0], cm[0,1], cm[1,0], cm[1,1]"
   ]
  },
  {
   "cell_type": "code",
   "execution_count": 132,
   "metadata": {},
   "outputs": [],
   "source": [
    "xgb = run_xgb(X_train, y_train)\n",
    "cm = confusion_matrix(y_test, xgb.predict(X_test))"
   ]
  },
  {
   "cell_type": "code",
   "execution_count": 139,
   "metadata": {},
   "outputs": [
    {
     "name": "stdout",
     "output_type": "stream",
     "text": [
      "Accuracy: 0.891,  Recall: 0.897,  Precision: 0.887,  Quadratic Kappa: 0.782\n"
     ]
    }
   ],
   "source": [
    "qk = quadratic_kappa(y_test, xgb.predict(X_test), N=2)\n",
    "acc = (cm[1,1]+cm[0,0])/(np.sum(cm))\n",
    "rec = cm[1,1]/(cm[1,0]+cm[1,1])\n",
    "prec = cm[1,1]/(cm[0,1]+cm[1,1])\n",
    "\n",
    "print(f'Accuracy: {acc:.3f},  Recall: {rec:.3f},  Precision: {prec:.3f},  Quadratic Kappa: {qk:.3f}')"
   ]
  },
  {
   "cell_type": "markdown",
   "metadata": {},
   "source": [
    "### PCA"
   ]
  },
  {
   "cell_type": "code",
   "execution_count": 141,
   "metadata": {},
   "outputs": [
    {
     "name": "stderr",
     "output_type": "stream",
     "text": [
      "  0%|          | 0/18 [00:00<?, ?it/s]"
     ]
    },
    {
     "name": "stdout",
     "output_type": "stream",
     "text": [
      "2"
     ]
    },
    {
     "name": "stderr",
     "output_type": "stream",
     "text": [
      "  6%|▌         | 1/18 [00:11<03:20, 11.77s/it]"
     ]
    },
    {
     "name": "stdout",
     "output_type": "stream",
     "text": [
      "2"
     ]
    },
    {
     "name": "stderr",
     "output_type": "stream",
     "text": [
      " 11%|█         | 2/18 [00:26<03:20, 12.53s/it]"
     ]
    },
    {
     "name": "stdout",
     "output_type": "stream",
     "text": [
      "2"
     ]
    },
    {
     "name": "stderr",
     "output_type": "stream",
     "text": [
      " 17%|█▋        | 3/18 [00:42<03:26, 13.79s/it]"
     ]
    },
    {
     "name": "stdout",
     "output_type": "stream",
     "text": [
      "2"
     ]
    },
    {
     "name": "stderr",
     "output_type": "stream",
     "text": [
      " 22%|██▏       | 4/18 [01:03<03:43, 15.95s/it]"
     ]
    },
    {
     "name": "stdout",
     "output_type": "stream",
     "text": [
      "2"
     ]
    },
    {
     "name": "stderr",
     "output_type": "stream",
     "text": [
      " 28%|██▊       | 5/18 [01:28<04:00, 18.47s/it]"
     ]
    },
    {
     "name": "stdout",
     "output_type": "stream",
     "text": [
      "2"
     ]
    },
    {
     "name": "stderr",
     "output_type": "stream",
     "text": [
      " 33%|███▎      | 6/18 [01:54<04:08, 20.70s/it]"
     ]
    },
    {
     "name": "stdout",
     "output_type": "stream",
     "text": [
      "2"
     ]
    },
    {
     "name": "stderr",
     "output_type": "stream",
     "text": [
      " 39%|███▉      | 7/18 [02:24<04:18, 23.50s/it]"
     ]
    },
    {
     "name": "stdout",
     "output_type": "stream",
     "text": [
      "2"
     ]
    },
    {
     "name": "stderr",
     "output_type": "stream",
     "text": [
      " 44%|████▍     | 8/18 [02:54<04:14, 25.45s/it]"
     ]
    },
    {
     "name": "stdout",
     "output_type": "stream",
     "text": [
      "2"
     ]
    },
    {
     "name": "stderr",
     "output_type": "stream",
     "text": [
      " 50%|█████     | 9/18 [03:25<04:04, 27.18s/it]"
     ]
    },
    {
     "name": "stdout",
     "output_type": "stream",
     "text": [
      "2"
     ]
    },
    {
     "name": "stderr",
     "output_type": "stream",
     "text": [
      " 56%|█████▌    | 10/18 [03:59<03:55, 29.38s/it]"
     ]
    },
    {
     "name": "stdout",
     "output_type": "stream",
     "text": [
      "2"
     ]
    },
    {
     "name": "stderr",
     "output_type": "stream",
     "text": [
      " 61%|██████    | 11/18 [04:37<03:43, 31.91s/it]"
     ]
    },
    {
     "name": "stdout",
     "output_type": "stream",
     "text": [
      "2"
     ]
    },
    {
     "name": "stderr",
     "output_type": "stream",
     "text": [
      " 67%|██████▋   | 12/18 [05:17<03:25, 34.22s/it]"
     ]
    },
    {
     "name": "stdout",
     "output_type": "stream",
     "text": [
      "2"
     ]
    },
    {
     "name": "stderr",
     "output_type": "stream",
     "text": [
      " 72%|███████▏  | 13/18 [06:03<03:08, 37.72s/it]"
     ]
    },
    {
     "name": "stdout",
     "output_type": "stream",
     "text": [
      "2"
     ]
    },
    {
     "name": "stderr",
     "output_type": "stream",
     "text": [
      " 78%|███████▊  | 14/18 [06:54<02:47, 41.80s/it]"
     ]
    },
    {
     "name": "stdout",
     "output_type": "stream",
     "text": [
      "2"
     ]
    },
    {
     "name": "stderr",
     "output_type": "stream",
     "text": [
      " 83%|████████▎ | 15/18 [07:43<02:12, 44.11s/it]"
     ]
    },
    {
     "name": "stdout",
     "output_type": "stream",
     "text": [
      "2"
     ]
    },
    {
     "name": "stderr",
     "output_type": "stream",
     "text": [
      " 89%|████████▉ | 16/18 [08:32<01:30, 45.30s/it]"
     ]
    },
    {
     "name": "stdout",
     "output_type": "stream",
     "text": [
      "2"
     ]
    },
    {
     "name": "stderr",
     "output_type": "stream",
     "text": [
      " 94%|█████████▍| 17/18 [09:25<00:47, 47.81s/it]"
     ]
    },
    {
     "name": "stdout",
     "output_type": "stream",
     "text": [
      "2"
     ]
    },
    {
     "name": "stderr",
     "output_type": "stream",
     "text": [
      "100%|██████████| 18/18 [10:19<00:00, 49.76s/it]\n"
     ]
    }
   ],
   "source": [
    "# res = []\n",
    "for i in tqdm(np.arange(2, 20)):\n",
    "    for index in range(3):\n",
    "        res.append(run_test(i, X_train, y_train, X_test, y_test))\n",
    "    print(index, end='')"
   ]
  },
  {
   "cell_type": "code",
   "execution_count": 142,
   "metadata": {},
   "outputs": [],
   "source": [
    "no_pca = run_test(2, X_train, y_train, X_test, y_test, enable_pca=False)"
   ]
  },
  {
   "cell_type": "code",
   "execution_count": 147,
   "metadata": {},
   "outputs": [
    {
     "data": {
      "text/plain": [
       "[Text(0, 0.5, 'Score'), Text(0.5, 0, 'Number of components')]"
      ]
     },
     "execution_count": 147,
     "metadata": {},
     "output_type": "execute_result"
    },
    {
     "data": {
      "image/png": "[encoded data removed]",
      "text/plain": [
       "<Figure size 432x288 with 1 Axes>"
      ]
     },
     "metadata": {
      "image/png": {
       "height": 265,
       "width": 403
      },
      "needs_background": "light"
     },
     "output_type": "display_data"
    }
   ],
   "source": [
    "res_array = np.array(res)\n",
    "df_results = pd.DataFrame(res_array)\n",
    "# plt.plot(res_array[:, 0], res_array[:, 2], 'o', label='recall', alpha=0.2)\n",
    "fig, ax = plt.subplots(1, figsize=(6, 4))\n",
    "\n",
    "n_estimators, recall_mean = df_results.groupby(0).std().index, df_results.groupby(0).mean()[2]\n",
    "n_estimators, recall_std = df_results.groupby(0).std().index, df_results.groupby(0).std()[2]\n",
    "ax.errorbar(n_estimators, recall_mean, recall_std ,fmt= 's', label='recall')\n",
    "\n",
    "\n",
    "n_estimators, accuracy_mean = df_results.groupby(0).std().index, df_results.groupby(0).mean()[1]\n",
    "n_estimators, accuracy_std = df_results.groupby(0).std().index, df_results.groupby(0).std()[1]\n",
    "ax.errorbar(n_estimators, accuracy_mean, accuracy_std ,fmt= 'd', label='accuracy')\n",
    "# plt.plot(res_array[:, 0], res_array[:, 1], 'd', alpha=0.2)\n",
    "ax.plot([0, 30], [no_pca[1], no_pca[1]], '--', linewidth=1, label='No PCA recall')\n",
    "ax.plot([0, 30], [no_pca[2], no_pca[2]], '--', linewidth=1, label='No PCA accuracy')\n",
    "ax.set_ylim([0.8, 0.9])\n",
    "ax.set_xlim(0, 20)\n",
    "\n",
    "ax.legend(loc=4)\n",
    "ax.set(**{'xlabel':'Number of components', 'ylabel':'Score'})\n",
    "\n",
    "# fig.savefig('../plots/score_vs_components.png', bbox_inches='tight')"
   ]
  },
  {
   "cell_type": "code",
   "execution_count": null,
   "metadata": {},
   "outputs": [],
   "source": []
  }
 ],
 "metadata": {
  "kernelspec": {
   "display_name": "Python 3",
   "language": "python",
   "name": "python3"
  },
  "language_info": {
   "codemirror_mode": {
    "name": "ipython",
    "version": 3
   },
   "file_extension": ".py",
   "mimetype": "text/x-python",
   "name": "python",
   "nbconvert_exporter": "python",
   "pygments_lexer": "ipython3",
   "version": "3.7.3"
  }
 },
 "nbformat": 4,
 "nbformat_minor": 2
}
